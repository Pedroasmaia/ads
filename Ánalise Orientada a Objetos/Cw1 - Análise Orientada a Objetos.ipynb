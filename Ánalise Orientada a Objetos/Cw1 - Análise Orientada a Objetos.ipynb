{
 "cells": [
  {
   "cell_type": "markdown",
   "metadata": {},
   "source": [
    "### Fundamentos da UML\n",
    "\n",
    "- UML Siginifica **Linguagem de Modelagem Unificada**\n",
    "- É open source\n",
    "\n",
    "### Técnicas de modelagem da UML\n",
    "\n",
    "- Existem 14 tipos diferentes de diagramas.\n",
    "- Classificação dos diagramas:\n",
    "\n",
    "  - **Estrutural:** Eles modelam a estrutura do sistema, como são os modulos e as classes, como as partes do sistema são organizadas.\n",
    "\n",
    "  - **Comportamental:** Como se comportam em tempos de execução e como se relacionam entre sí.\n",
    "\n",
    "  - **Estático:** São feitos e não são modificados, pois  não mudam de acordo  com a implementação do sistema.\n",
    "\n",
    "  - **Dinâmico:** Representa um momento da aplicação, ao longo do processo sofrem alterações.\n",
    "\n",
    "  ### Mecanismos comum da UML\n",
    "\n",
    "  - **Especificações:** É a descrição grafica do elemento\n",
    "  - **Adornos:** Um adorno é um elmento do diagrama UML que tem uma arte grafica unica e direta\n",
    "  - **Divisões Comuns:** A interface é como um contrato. A implementação é uma das possiveis realizações desse contrato.\n",
    "  - **Estereótipos:** Na UML é possivel modificar um pouco um desenho com um proposito especifico, criando um novo objeto.\n",
    "\n",
    "  ### Consistencia entre diagramas\n",
    "\n",
    "  "
   ]
  }
 ],
 "metadata": {
  "language_info": {
   "name": "python"
  }
 },
 "nbformat": 4,
 "nbformat_minor": 2
}
