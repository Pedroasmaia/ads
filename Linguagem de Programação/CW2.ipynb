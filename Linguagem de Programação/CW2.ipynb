{
 "cells": [
  {
   "cell_type": "markdown",
   "metadata": {},
   "source": [
    "# Contéudo WEB 2\n",
    "\n",
    "## Listas"
   ]
  },
  {
   "cell_type": "code",
   "execution_count": 1,
   "metadata": {},
   "outputs": [],
   "source": [
    "vogais = ['a','e','i','o','u']\n",
    "\n",
    "vogais = ['a','e','i','o']\n",
    "vogais.append('u')"
   ]
  },
  {
   "cell_type": "markdown",
   "metadata": {},
   "source": [
    "## Dicionários"
   ]
  },
  {
   "cell_type": "code",
   "execution_count": 2,
   "metadata": {},
   "outputs": [
    {
     "name": "stdout",
     "output_type": "stream",
     "text": [
      "pedro\n"
     ]
    }
   ],
   "source": [
    "aluno1 = {'nome':'pedro','idade':28,'cidade':'São Paulo'}\n",
    "print(aluno1['nome'])"
   ]
  },
  {
   "cell_type": "markdown",
   "metadata": {},
   "source": [
    "## Algoritmo de Busca\n"
   ]
  },
  {
   "cell_type": "code",
   "execution_count": 3,
   "metadata": {},
   "outputs": [
    {
     "name": "stdout",
     "output_type": "stream",
     "text": [
      "False\n",
      "True\n"
     ]
    }
   ],
   "source": [
    "def busca_sequencial(lista, elemento):\n",
    "   pos = 0\n",
    "   encontrado = False\n",
    "\n",
    "\n",
    "   while pos < len(lista) and not encontrado:\n",
    "      if lista[pos] == elemento:\n",
    "            encontrado = True\n",
    "      else:\n",
    "         pos = pos+1\n",
    "   return encontrado\n",
    "\n",
    "testelista = [2, 10, 8, 15, 18, 20, 12, 1]\n",
    "print(busca_sequencial(testelista, 5))\n",
    "print(busca_sequencial(testelista, 10))"
   ]
  },
  {
   "cell_type": "markdown",
   "metadata": {},
   "source": [
    "## Algoritmo de Ordenação\n",
    "\n",
    "### Por inserção"
   ]
  },
  {
   "cell_type": "code",
   "execution_count": 4,
   "metadata": {},
   "outputs": [
    {
     "ename": "TypeError",
     "evalue": "object of type 'type' has no len()",
     "output_type": "error",
     "traceback": [
      "\u001b[1;31m---------------------------------------------------------------------------\u001b[0m",
      "\u001b[1;31mTypeError\u001b[0m                                 Traceback (most recent call last)",
      "Cell \u001b[1;32mIn[4], line 12\u001b[0m\n\u001b[0;32m     10\u001b[0m    \u001b[39mreturn\u001b[39;00m lista\n\u001b[0;32m     11\u001b[0m lista \u001b[39m=\u001b[39m [\u001b[39m10\u001b[39m, \u001b[39m8\u001b[39m, \u001b[39m7\u001b[39m, \u001b[39m3\u001b[39m, \u001b[39m2\u001b[39m, \u001b[39m1\u001b[39m]\n\u001b[1;32m---> 12\u001b[0m executar_insertion_sort(lista)\n",
      "Cell \u001b[1;32mIn[4], line 2\u001b[0m, in \u001b[0;36mexecutar_insertion_sort\u001b[1;34m(lista)\u001b[0m\n\u001b[0;32m      1\u001b[0m \u001b[39mdef\u001b[39;00m \u001b[39mexecutar_insertion_sort\u001b[39m(lista):\n\u001b[1;32m----> 2\u001b[0m    n \u001b[39m=\u001b[39m \u001b[39mlen\u001b[39;49m(\u001b[39mlist\u001b[39;49m)\n\u001b[0;32m      3\u001b[0m    \u001b[39mfor\u001b[39;00m i \u001b[39min\u001b[39;00m \u001b[39mrange\u001b[39m(\u001b[39m1\u001b[39m,n):\n\u001b[0;32m      4\u001b[0m       valor_inserir \u001b[39m=\u001b[39m lista[i]\n",
      "\u001b[1;31mTypeError\u001b[0m: object of type 'type' has no len()"
     ]
    }
   ],
   "source": [
    "def executar_insertion_sort(lista):\n",
    "   n = len(list)\n",
    "   for i in range(1,n):\n",
    "      valor_inserir = lista[i]\n",
    "      j = i - 1\n",
    "      while j >= 0 and lista[j] > valor_inserir:\n",
    "         lista[j+1] = lista[j]\n",
    "         j -= 1\n",
    "      lista[j+1] = valor_inserir\n",
    "   return lista\n",
    "lista = [10, 8, 7, 3, 2, 1]\n",
    "executar_insertion_sort(lista)"
   ]
  }
 ],
 "metadata": {
  "kernelspec": {
   "display_name": "Python 3",
   "language": "python",
   "name": "python3"
  },
  "language_info": {
   "codemirror_mode": {
    "name": "ipython",
    "version": 3
   },
   "file_extension": ".py",
   "mimetype": "text/x-python",
   "name": "python",
   "nbconvert_exporter": "python",
   "pygments_lexer": "ipython3",
   "version": "3.11.3"
  },
  "orig_nbformat": 4
 },
 "nbformat": 4,
 "nbformat_minor": 2
}
