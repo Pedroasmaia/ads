{
 "cells": [
  {
   "cell_type": "markdown",
   "metadata": {},
   "source": [
    "# Classes e métodos em Python\n",
    "\n",
    "## Definições importantes:\n",
    "\n",
    "- **Objetos:** são os componentes de um programa orientado a objetos.\n",
    "- **Classe:** é um modelo para um objeto.\n",
    "- **Instância:** É a existência física, em memória, do objeto. (Recurso alocado)\n",
    "\n",
    "## Criando uma classe em Python\n",
    "\n",
    "### Atributos\n",
    "\n",
    "- Utiliza-se a palavra reservada *class*\n",
    "- Podemos definir os objetos dentro da classe, que podem ser chamados e alterados"
   ]
  },
  {
   "cell_type": "code",
   "execution_count": 8,
   "metadata": {},
   "outputs": [
    {
     "name": "stdout",
     "output_type": "stream",
     "text": [
      "None\n",
      "Aluno 1\n",
      "Olá ,seja bem vindo!\n"
     ]
    }
   ],
   "source": [
    "class PrimeiraClasse:\n",
    "    nome = None\n",
    "    def imprimir_mensagem(self): \n",
    "      print(f\"Olá ,seja bem vindo!\" )\n",
    "objeto1 = PrimeiraClasse()\n",
    "print(objeto1.nome)\n",
    "objeto1.nome = \"Aluno 1\" \n",
    "print(objeto1.nome)\n",
    "objeto1.imprimir_mensagem()\n"
   ]
  },
  {
   "cell_type": "markdown",
   "metadata": {},
   "source": [
    "### Métodos\n",
    "\n",
    "- Os comportamentos de um objeto representa o que ele pode fazer.\n",
    "- Procedimentos, Funções, Sub-rotinas.\n",
    "- Esses comportamentos estão contidos nos método, que você invoca.\n",
    "\n",
    "### Classe \"init()\"\n",
    "\n",
    "- Ao instanciar um novo objeto, é possível determinar um estado inicial para os atributos.\n",
    "- O Método construtor se chama _-init-_  e deve ser usado nessa forma:"
   ]
  },
  {
   "cell_type": "code",
   "execution_count": 12,
   "metadata": {},
   "outputs": [
    {
     "name": "stdout",
     "output_type": "stream",
     "text": [
      "Técnico\n",
      "Técnico\n",
      "Ativo\n",
      "Licença Mestrado\n"
     ]
    }
   ],
   "source": [
    "class FuncionarioTecnico:\n",
    "    def __init__(self, status):\n",
    "        self.status = status\n",
    "        self.nivel = 'Técnico'\n",
    "\n",
    "func1 = FuncionarioTecnico('Ativo')\n",
    "func2 = FuncionarioTecnico('Licença Mestrado')\n",
    "\n",
    "print(func1.nivel)\n",
    "print(func2.nivel)\n",
    "print(func1.status)\n",
    "print(func2.status)\n",
    "\n"
   ]
  }
 ],
 "metadata": {
  "kernelspec": {
   "display_name": "Python 3",
   "language": "python",
   "name": "python3"
  },
  "language_info": {
   "codemirror_mode": {
    "name": "ipython",
    "version": 3
   },
   "file_extension": ".py",
   "mimetype": "text/x-python",
   "name": "python",
   "nbconvert_exporter": "python",
   "pygments_lexer": "ipython3",
   "version": "3.11.3"
  },
  "orig_nbformat": 4
 },
 "nbformat": 4,
 "nbformat_minor": 2
}
