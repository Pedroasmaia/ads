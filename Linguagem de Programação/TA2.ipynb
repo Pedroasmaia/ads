{
 "cells": [
  {
   "cell_type": "markdown",
   "metadata": {},
   "source": [
    "# Estrutura de Dados\n",
    "\n",
    "## Objetos do tipo sequência:\n",
    "\n",
    "- Sequência finitas\n",
    "- Indexadas por números não negativos.\n",
    "- Começando em 0 e indo até N-1"
   ]
  },
  {
   "cell_type": "code",
   "execution_count": 16,
   "metadata": {},
   "outputs": [
    {
     "name": "stdout",
     "output_type": "stream",
     "text": [
      "`Tamanho do texto Aprendendo Estrutura de dados\n",
      "Existe a palavra (dados) no texto:True\n",
      "Quantidade de a no texto = 2\n",
      "As 5 primeiras letras são: Aprend\n",
      "Posição = 0, valor = A\n",
      "Posição = 1, valor = p\n",
      "Posição = 2, valor = r\n",
      "Posição = 3, valor = e\n",
      "Posição = 4, valor = n\n",
      "Posição = 5, valor = d\n",
      "Posição = 3, valor = e\n",
      "Posição = 4, valor = n\n",
      "Posição = 5, valor = d\n",
      "Posição = 9, valor = o\n",
      "Posição = 10, valor =  \n",
      "Posição = 11, valor = E\n",
      "Posição = 12, valor = s\n",
      "Posição = 13, valor = t\n",
      "Posição = 2, valor = r\n",
      "Posição = 15, valor = u\n",
      "Posição = 13, valor = t\n",
      "Posição = 15, valor = u\n",
      "Posição = 2, valor = r\n",
      "Posição = 19, valor = a\n",
      "Posição = 10, valor =  \n",
      "Posição = 5, valor = d\n",
      "Posição = 3, valor = e\n",
      "Posição = 10, valor =  \n",
      "Posição = 5, valor = d\n",
      "Posição = 19, valor = a\n",
      "Posição = 5, valor = d\n",
      "Posição = 9, valor = o\n",
      "Posição = 12, valor = s\n",
      "['Aprendendo', 'Estrutura', 'de', 'dados']\n"
     ]
    }
   ],
   "source": [
    "text = \"Aprendendo Estrutura de dados\"\n",
    "print(f'`Tamanho do texto {text}')\n",
    "print(f'Existe a palavra (dados) no texto:{\"dados\" in text}')\n",
    "print(f'Quantidade de a no texto = {text.count(\"a\")}')\n",
    "print(f'As 5 primeiras letras são: {text[0:6]}')\n",
    "\n",
    "for letra in text:\n",
    "    print(f'Posição = {text.index(letra)}, valor = {letra}')\n",
    "\n",
    "print(text.split())\n"
   ]
  },
  {
   "cell_type": "markdown",
   "metadata": {},
   "source": [
    "### Lista\n",
    "\n",
    "- Estrutura de dados do tipo sequencial\n",
    "- É mutavel, valores podem ser adicionados ou removidos\n",
    "- É definida (vazia) por um par de colchetes"
   ]
  },
  {
   "cell_type": "code",
   "execution_count": 17,
   "metadata": {},
   "outputs": [
    {
     "name": "stdout",
     "output_type": "stream",
     "text": [
      "Lista antes da listcomp =  ['Python', 'Java', 'Javascript', 'C', 'C#', 'C++', 'Swift', 'Go', 'Kotlin']\n",
      "Lista depois da listcomp =  ['python', 'java', 'javascript', 'c', 'c#', 'c++', 'swift', 'go', 'kotlin']\n"
     ]
    }
   ],
   "source": [
    "lista1 = []\n",
    "\n",
    "linguagens = ['Python','Java','Javascript','C','C#','C++',\"Swift\",'Go','Kotlin']\n",
    "print(\"Lista antes da listcomp = \",linguagens)\n",
    "\n",
    "linguagens = [item.lower() for item in linguagens]\n",
    "\n",
    "print(\"Lista depois da listcomp = \",linguagens)"
   ]
  },
  {
   "cell_type": "markdown",
   "metadata": {},
   "source": [
    "### Funções Map() e Filter()\n",
    "\n",
    "- Built-in\n",
    "- Map() é utilizada para aplicar uma função em cada item do objeto iterável"
   ]
  },
  {
   "cell_type": "code",
   "execution_count": 19,
   "metadata": {},
   "outputs": [
    {
     "name": "stdout",
     "output_type": "stream",
     "text": [
      "['Python', 'Java', 'Javascript', 'C', 'C#', 'C++', 'Swift', 'Go', 'Kotlin']\n"
     ]
    }
   ],
   "source": [
    "nova_lista = map(lambda x:x.capitalize(),linguagens)\n",
    "print(list(nova_lista))"
   ]
  },
  {
   "cell_type": "markdown",
   "metadata": {},
   "source": [
    "### Estruturas de Busca\n"
   ]
  },
  {
   "cell_type": "code",
   "execution_count": 20,
   "metadata": {},
   "outputs": [
    {
     "name": "stdout",
     "output_type": "stream",
     "text": [
      "False\n"
     ]
    }
   ],
   "source": [
    "nomes = 'Pedro Jorge Luis Almeida Barros Antunes'\n",
    "print('Maria' in nomes)"
   ]
  },
  {
   "cell_type": "markdown",
   "metadata": {},
   "source": [
    "Busca linear, usa uma estrutura de repetição para percorrer a lista até achar a que ela quer."
   ]
  },
  {
   "cell_type": "code",
   "execution_count": 28,
   "metadata": {},
   "outputs": [
    {
     "name": "stdout",
     "output_type": "stream",
     "text": [
      "Achamos o 4654, no indice 4\n"
     ]
    }
   ],
   "source": [
    "lista = [3,4,5,456,4654,3545,4846,643468,164864]\n",
    "for i in lista:\n",
    "    if i == 4654:\n",
    "        print(f'Achamos o 4654, no indice {lista.index(i)}')"
   ]
  },
  {
   "cell_type": "markdown",
   "metadata": {},
   "source": [
    "### Complexidade \n",
    "\n",
    "- Um algortimo é melhor que outro, quando utiliza menos recursos computacionais."
   ]
  },
  {
   "cell_type": "markdown",
   "metadata": {},
   "source": [
    "# Algoritimo de Ordenação\n",
    "\n",
    "- Consiste em comparar 2 valores e ver qual deveria estar em qual posição.\n",
    "- Muda na questão de como e quando, vamos realizar a comparação.\n",
    "- Em python existe duas funções nativas para isso:\n",
    "    - sorted()\n",
    "    - sort()"
   ]
  },
  {
   "cell_type": "code",
   "execution_count": 3,
   "metadata": {},
   "outputs": [
    {
     "name": "stdout",
     "output_type": "stream",
     "text": [
      "[4, 7]\n"
     ]
    }
   ],
   "source": [
    "#Criaçãao de um método\n",
    "lista = [7,4]\n",
    "if lista[0] > lista[1]:\n",
    "    aux = lista[1]\n",
    "    lista[1] = lista[0]\n",
    "    lista[0] = aux\n",
    "print(lista)"
   ]
  },
  {
   "cell_type": "code",
   "execution_count": 10,
   "metadata": {},
   "outputs": [
    {
     "name": "stdout",
     "output_type": "stream",
     "text": [
      "[10, 9, 5, 8, 11, 3]\n",
      "[9, 10, 5, 8, 11, 3]\n",
      "[9, 10, 5, 8, 11, 3]\n",
      "[5, 10, 9, 8, 11, 3]\n",
      "[5, 9, 10, 8, 11, 3]\n",
      "[5, 9, 10, 8, 11, 3]\n",
      "[5, 9, 10, 8, 11, 3]\n",
      "[5, 8, 10, 9, 11, 3]\n",
      "[5, 8, 9, 10, 11, 3]\n",
      "[5, 8, 9, 10, 11, 3]\n",
      "[5, 8, 9, 10, 11, 3]\n",
      "[5, 8, 9, 10, 11, 3]\n",
      "[5, 8, 9, 10, 11, 3]\n",
      "[5, 8, 9, 10, 11, 3]\n",
      "[5, 8, 9, 10, 11, 3]\n",
      "[3, 8, 9, 10, 11, 5]\n",
      "[3, 5, 9, 10, 11, 8]\n",
      "[3, 5, 8, 10, 11, 9]\n",
      "[3, 5, 8, 9, 11, 10]\n",
      "[3, 5, 8, 9, 10, 11]\n",
      "[3, 5, 8, 9, 10, 11]\n"
     ]
    }
   ],
   "source": [
    "lista = [10,9,5,8,11,3]\n",
    "n = len(lista)\n",
    "for i in range(0,n):\n",
    "    index_menor = i\n",
    "    for j in range(i+1):\n",
    "        if lista[j] > lista[index_menor]:\n",
    "            index_menor = j\n",
    "        lista[i],lista[index_menor] = lista[index_menor],lista[i]\n",
    "        print(lista)\n"
   ]
  },
  {
   "cell_type": "markdown",
   "metadata": {},
   "source": [
    "# Bubble Sort\n",
    "\n",
    "- Sempre compara com o indice vizinho para ir trocando."
   ]
  },
  {
   "cell_type": "code",
   "execution_count": 9,
   "metadata": {},
   "outputs": [
    {
     "name": "stdout",
     "output_type": "stream",
     "text": [
      "[9, 10, 5, 8, 11, -1, 13]\n",
      "[9, 5, 10, 8, 11, -1, 13]\n",
      "[9, 5, 8, 10, 11, -1, 13]\n",
      "[9, 5, 8, 10, -1, 11, 13]\n",
      "[5, 9, 8, 10, -1, 11, 13]\n",
      "[5, 8, 9, 10, -1, 11, 13]\n",
      "[5, 8, 9, -1, 10, 11, 13]\n",
      "[5, 8, -1, 9, 10, 11, 13]\n",
      "[5, -1, 8, 9, 10, 11, 13]\n",
      "[-1, 5, 8, 9, 10, 11, 13]\n"
     ]
    }
   ],
   "source": [
    "lista = [10,9,5,8,11,-1,13]\n",
    "n = len(lista)\n",
    "for i in range(n-1):\n",
    "    for j in range(n-1):\n",
    "        if lista[j] > lista[j+1]:\n",
    "            lista[j],lista[j+1] = lista[j+1],lista[j]\n",
    "            print(lista)"
   ]
  }
 ],
 "metadata": {
  "kernelspec": {
   "display_name": "Python 3",
   "language": "python",
   "name": "python3"
  },
  "language_info": {
   "codemirror_mode": {
    "name": "ipython",
    "version": 3
   },
   "file_extension": ".py",
   "mimetype": "text/x-python",
   "name": "python",
   "nbconvert_exporter": "python",
   "pygments_lexer": "ipython3",
   "version": "3.11.3"
  },
  "orig_nbformat": 4
 },
 "nbformat": 4,
 "nbformat_minor": 2
}
