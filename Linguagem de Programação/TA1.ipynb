{
 "cells": [
  {
   "cell_type": "markdown",
   "metadata": {},
   "source": [
    "Variáveis são espaços alocados na memória RAM para guardar valores temporariamente.\n",
    "E no python esses espaços não precisam ser tipados, ou seja é do tipo de tipagem dinâmica"
   ]
  },
  {
   "cell_type": "code",
   "execution_count": 2,
   "metadata": {},
   "outputs": [
    {
     "name": "stdout",
     "output_type": "stream",
     "text": [
      "<class 'int'>\n",
      "<class 'str'>\n",
      "<class 'float'>\n",
      "<class 'bool'>\n"
     ]
    }
   ],
   "source": [
    "x = 10\n",
    "nome = \"Pedro\"\n",
    "nota = 8.5\n",
    "flag = True\n",
    "\n",
    "print(type(x))\n",
    "print(type(nome))\n",
    "print(type(nota))\n",
    "print(type(flag))"
   ]
  },
  {
   "cell_type": "markdown",
   "metadata": {},
   "source": [
    "A função type() retorna o tupo da variável, e tudo em python é considerado um objeto.\n",
    "Podemos usar a função script para inserir pelo console um valor:"
   ]
  },
  {
   "cell_type": "code",
   "execution_count": 3,
   "metadata": {},
   "outputs": [
    {
     "name": "stdout",
     "output_type": "stream",
     "text": [
      "Digite seu nome\n",
      "Seu nome é \n"
     ]
    }
   ],
   "source": [
    "print(\"Digite seu nome\")\n",
    "nome = input()\n",
    "print(\"Seu nome é \" + nome)"
   ]
  },
  {
   "cell_type": "markdown",
   "metadata": {},
   "source": [
    "Podemos também formatar melhor esse código usando o f\"\", assim:"
   ]
  },
  {
   "cell_type": "code",
   "execution_count": 4,
   "metadata": {},
   "outputs": [
    {
     "name": "stdout",
     "output_type": "stream",
     "text": [
      "Digite seu nome\n",
      "Seu nome é \n"
     ]
    }
   ],
   "source": [
    "print(\"Digite seu nome\")\n",
    "nome = input()\n",
    "print(f\"Seu nome é {nome}\")"
   ]
  },
  {
   "cell_type": "markdown",
   "metadata": {},
   "source": [
    "passando entre chaves {} o nome da variável"
   ]
  },
  {
   "cell_type": "markdown",
   "metadata": {},
   "source": [
    "# Estrutura condicional"
   ]
  },
  {
   "cell_type": "code",
   "execution_count": 5,
   "metadata": {},
   "outputs": [
    {
     "name": "stdout",
     "output_type": "stream",
     "text": [
      "A variável nome não é vazia\n"
     ]
    }
   ],
   "source": [
    "nome = 'Daniel'\n",
    "sobrenome = ''\n",
    "lista = []\n",
    "if nome:\n",
    "    print('A variável nome não é vazia')"
   ]
  },
  {
   "cell_type": "markdown",
   "metadata": {},
   "source": [
    "### Estrutura Composta"
   ]
  },
  {
   "cell_type": "code",
   "execution_count": 6,
   "metadata": {},
   "outputs": [
    {
     "name": "stdout",
     "output_type": "stream",
     "text": [
      "20 é maior que 10\n"
     ]
    }
   ],
   "source": [
    "valor1 = 10\n",
    "valor2 = 20\n",
    "\n",
    "if valor1 > valor2:\n",
    "    print(f\"{valor1} é maior que {valor2}\")\n",
    "else:\n",
    "    print(f\"{valor2} é maior que {valor1}\")"
   ]
  },
  {
   "cell_type": "markdown",
   "metadata": {},
   "source": [
    "### Estrutura encadeada"
   ]
  },
  {
   "cell_type": "code",
   "execution_count": null,
   "metadata": {},
   "outputs": [],
   "source": [
    "cor = \"branco\"\n",
    "if cor == \"verde\":\n",
    "   print(\"Acelere\")\n",
    "elif cor =='amarelo':\n",
    "   print(\"Atenção\")\n",
    "else:\n",
    "   print(\"Pare\")"
   ]
  },
  {
   "cell_type": "markdown",
   "metadata": {},
   "source": [
    "#### Operadores Lógicos\n",
    "\n",
    "- **and:** Resultado será *True* quando os dois argumentos forem verdadeiros.\n",
    "- **or:** Resultado será *True* quando pelo menos um dos argumentos forem verdadeiros.\n",
    "- **not:** Resultado será *True* quando o resultado não for igual o argumento.\n"
   ]
  },
  {
   "cell_type": "code",
   "execution_count": 7,
   "metadata": {},
   "outputs": [
    {
     "name": "stdout",
     "output_type": "stream",
     "text": [
      "Aluno Reprovado\n"
     ]
    }
   ],
   "source": [
    "qtd_faltas = int(input(\"Digite a quantidade de faltas: \"))\n",
    "media = float(input(\"Digite a media: \"))\n",
    "if qtd_faltas <= 5 and media >= 7:\n",
    "    print(\"Aluno aprovado\")\n",
    "else:\n",
    "    print('Aluno Reprovado')"
   ]
  },
  {
   "cell_type": "markdown",
   "metadata": {},
   "source": [
    "# Estrutura de Repetição"
   ]
  },
  {
   "cell_type": "markdown",
   "metadata": {},
   "source": [
    "## While\n",
    "\n",
    "Deve ser usado sempre que o número de repetições não seja conhecido:"
   ]
  },
  {
   "cell_type": "code",
   "execution_count": 8,
   "metadata": {},
   "outputs": [
    {
     "name": "stdout",
     "output_type": "stream",
     "text": [
      "Número par!\n"
     ]
    }
   ],
   "source": [
    "numero = 1\n",
    "while numero != 0:\n",
    "    numero = int(input(\"Digite um número: \"))\n",
    "    if numero % 2 == 0:\n",
    "        print(\"Número par!\")\n",
    "    else:\n",
    "        print(\"Número imppar!\")"
   ]
  },
  {
   "cell_type": "markdown",
   "metadata": {},
   "source": [
    "## For\n",
    "\n",
    "No For sabemos exatamente qual caminho deve ser repetido até chegarmos ao valor que queremos:"
   ]
  },
  {
   "cell_type": "code",
   "execution_count": null,
   "metadata": {},
   "outputs": [],
   "source": [
    "serial = [0,1,2,3,4,5,6,7,8,9,10]\n",
    "for number in serial:\n",
    "   if number % 2 == 0:\n",
    "      print(number)"
   ]
  },
  {
   "cell_type": "markdown",
   "metadata": {},
   "source": [
    "posso usar uma função *enumerate()* para pegar a posição de cada item dentro da sequencia:"
   ]
  },
  {
   "cell_type": "code",
   "execution_count": 10,
   "metadata": {},
   "outputs": [
    {
     "name": "stdout",
     "output_type": "stream",
     "text": [
      "N°: 0, Nome: pedro\n",
      "N°: 1, Nome: jorge\n",
      "N°: 2, Nome: almeida\n",
      "N°: 3, Nome: joão\n",
      "N°: 4, Nome: matheus\n"
     ]
    }
   ],
   "source": [
    "alunos = ['pedro','jorge','almeida','joão','matheus']\n",
    "for i,nome in enumerate(alunos):\n",
    "    print(f\"N°: {i}, Nome: {nome}\")"
   ]
  },
  {
   "cell_type": "markdown",
   "metadata": {},
   "source": [
    "Sendo o I a posição da variável"
   ]
  },
  {
   "cell_type": "markdown",
   "metadata": {},
   "source": [
    "### Controle de sequencia:\n",
    "\n",
    "- **Range()**: Com 1 argumento diz a quantidade de vezes que eu quero que repita, com 2 argumentos eu delimito o valor, com 3 argumentos eu digo de quantos em quantos eu quero que pegue desde o inicio até o limite.\n",
    "- **Brake**: Quero que termine o código naquele momento.\n",
    "- **Continue** Pula para o retorno do bloco de iteração."
   ]
  },
  {
   "cell_type": "markdown",
   "metadata": {},
   "source": [
    "# Funções"
   ]
  },
  {
   "cell_type": "markdown",
   "metadata": {},
   "source": [
    "São blocos de código que podemos reutilizar.\n",
    "Funções built-in são as nativas do python.\n",
    "\n",
    "### Função definida pelo usuário:\n",
    "- Podemos escolher o nome, utilizando sempre letra minúsculas, com palavras separadas por underline\n",
    "- São criadas utilizando o comando **def()**"
   ]
  },
  {
   "cell_type": "code",
   "execution_count": null,
   "metadata": {},
   "outputs": [],
   "source": [
    "def imprimir_mensagem(disciplina, curso):\n",
    "    print(f\"O Seu curso é {curso} e sua disciplina é {disciplina}\")\n",
    "imprimir_mensagem(\"ads\",\"Linguagem de programação\")"
   ]
  },
  {
   "cell_type": "markdown",
   "metadata": {},
   "source": [
    "1. Parâmetro posicional, obrigatório, sem valor padrão:"
   ]
  },
  {
   "cell_type": "code",
   "execution_count": null,
   "metadata": {},
   "outputs": [],
   "source": [
    "def soma(a,b):\n",
    "    print(a+b)"
   ]
  },
  {
   "cell_type": "markdown",
   "metadata": {},
   "source": [
    "2. Parâmetro posicional, obrigatório, com valor padrão"
   ]
  },
  {
   "cell_type": "code",
   "execution_count": null,
   "metadata": {},
   "outputs": [],
   "source": [
    "def soma(a,b=0):\n",
    "    print(a+b)"
   ]
  },
  {
   "cell_type": "markdown",
   "metadata": {},
   "source": [
    "3. Parâmetro nominal, obrigatório, sem valor padrão. A mesma coisa que o 1° mas sem ordem para receber os parâmetros.\n",
    "4. Parâmetro nominal, obrigatório, com valor padrão. A mesma coisa que o 1° mas sem ordem para receber os parâmetros.\n",
    "5. Parâmetro posicional , não obrigatório (args), de modo posicional, porem quantidade é desconhecida."
   ]
  },
  {
   "cell_type": "code",
   "execution_count": null,
   "metadata": {},
   "outputs": [],
   "source": [
    "def contagem(*args):\n",
    "    qtd = len(args)\n",
    "    print(F\"Quantidade de parametros: {qtd}\")"
   ]
  },
  {
   "cell_type": "markdown",
   "metadata": {},
   "source": [
    "6. Parâmetro nominal e não obrigatório(kwargs)."
   ]
  }
 ],
 "metadata": {
  "kernelspec": {
   "display_name": "Python 3",
   "language": "python",
   "name": "python3"
  },
  "language_info": {
   "codemirror_mode": {
    "name": "ipython",
    "version": 3
   },
   "file_extension": ".py",
   "mimetype": "text/x-python",
   "name": "python",
   "nbconvert_exporter": "python",
   "pygments_lexer": "ipython3",
   "version": "3.11.3"
  },
  "orig_nbformat": 4
 },
 "nbformat": 4,
 "nbformat_minor": 2
}
