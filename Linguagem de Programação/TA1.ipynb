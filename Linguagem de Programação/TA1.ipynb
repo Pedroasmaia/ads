{
 "cells": [
  {
   "cell_type": "markdown",
   "metadata": {},
   "source": [
    "Variáveis são espaços alocados na memória RAM para guardar valores temporariamente.\n",
    "E no python esses espaços não precisam ser tipados, ou seja é do tipo de tipagem dinâmica"
   ]
  },
  {
   "cell_type": "code",
   "execution_count": 6,
   "metadata": {},
   "outputs": [
    {
     "name": "stdout",
     "output_type": "stream",
     "text": [
      "<class 'int'>\n",
      "<class 'str'>\n",
      "<class 'float'>\n",
      "<class 'bool'>\n"
     ]
    }
   ],
   "source": [
    "x = 10\n",
    "nome = \"Pedro\"\n",
    "nota = 8.5\n",
    "flag = True\n",
    "\n",
    "print(type(x))\n",
    "print(type(nome))\n",
    "print(type(nota))\n",
    "print(type(flag))"
   ]
  },
  {
   "cell_type": "markdown",
   "metadata": {},
   "source": [
    "A função type() retorna o tupo da variável, e tudo em python é considerado um objeto.\n",
    "Podemos usar a função script para inserir pelo console um valor:"
   ]
  },
  {
   "cell_type": "code",
   "execution_count": 7,
   "metadata": {},
   "outputs": [
    {
     "name": "stdout",
     "output_type": "stream",
     "text": [
      "Digite seu nome\n",
      "Seu nome é Pedro\n"
     ]
    }
   ],
   "source": [
    "print(\"Digite seu nome\")\n",
    "nome = input()\n",
    "print(\"Seu nome é \" + nome)"
   ]
  },
  {
   "cell_type": "markdown",
   "metadata": {},
   "source": [
    "Podemos também formatar melhor esse código usando o f\"\", assim:"
   ]
  },
  {
   "cell_type": "code",
   "execution_count": 8,
   "metadata": {},
   "outputs": [
    {
     "name": "stdout",
     "output_type": "stream",
     "text": [
      "Digite seu nome\n",
      "Seu nome é Pedro\n"
     ]
    }
   ],
   "source": [
    "print(\"Digite seu nome\")\n",
    "nome = input()\n",
    "print(f\"Seu nome é {nome}\")"
   ]
  },
  {
   "cell_type": "markdown",
   "metadata": {},
   "source": [
    "passando entre chaves {} o nome da variável"
   ]
  }
 ],
 "metadata": {
  "kernelspec": {
   "display_name": "Python 3",
   "language": "python",
   "name": "python3"
  },
  "language_info": {
   "codemirror_mode": {
    "name": "ipython",
    "version": 3
   },
   "file_extension": ".py",
   "mimetype": "text/x-python",
   "name": "python",
   "nbconvert_exporter": "python",
   "pygments_lexer": "ipython3",
   "version": "3.11.3"
  },
  "orig_nbformat": 4
 },
 "nbformat": 4,
 "nbformat_minor": 2
}
